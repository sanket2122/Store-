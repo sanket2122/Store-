{
  "nbformat": 4,
  "nbformat_minor": 0,
  "metadata": {
    "colab": {
      "name": "Europe store.ipynb",
      "provenance": [],
      "collapsed_sections": [],
      "authorship_tag": "ABX9TyOptxCnwKBUZjfZaPdMp5iX",
      "include_colab_link": true
    },
    "kernelspec": {
      "name": "python3",
      "display_name": "Python 3"
    }
  },
  "cells": [
    {
      "cell_type": "markdown",
      "metadata": {
        "id": "view-in-github",
        "colab_type": "text"
      },
      "source": [
        "<a href=\"https://colab.research.google.com/github/sanket2122/Store-/blob/main/Europe_store.ipynb\" target=\"_parent\"><img src=\"https://colab.research.google.com/assets/colab-badge.svg\" alt=\"Open In Colab\"/></a>"
      ]
    },
    {
      "cell_type": "code",
      "metadata": {
        "id": "F6jAF9xV0E3X"
      },
      "source": [
        "import pandas as pd\n",
        "import numpy as np\n",
        "import seaborn as sns\n",
        "import matplotlib.pyplot as plt\n",
        "import datatime"
      ],
      "execution_count": 36,
      "outputs": []
    },
    {
      "cell_type": "markdown",
      "metadata": {
        "id": "S3BEFO4sHtYr"
      },
      "source": [
        "**Loading** **Dataset**"
      ]
    },
    {
      "cell_type": "code",
      "metadata": {
        "id": "WMqntgdm0bkD"
      },
      "source": [
        "customers=pd.read_csv('/content/customers.csv')\n",
        "order_idems=pd.read_csv('/content/order_items.csv')\n",
        "order_payments=pd.read_csv('/content/order_payments.csv')\n"
      ],
      "execution_count": 2,
      "outputs": []
    },
    {
      "cell_type": "code",
      "metadata": {
        "id": "2llH4o3G_tml"
      },
      "source": [
        "order_reviews=pd.read_csv('/content/order_reviews.csv')\n"
      ],
      "execution_count": 3,
      "outputs": []
    },
    {
      "cell_type": "code",
      "metadata": {
        "id": "8aIlyxXZ_1aF"
      },
      "source": [
        "order=pd.read_csv('/content/orders.csv')\n",
        "products=pd.read_csv('/content/products.csv')\n",
        "product_category_name=pd.read_csv('/content/product_category_name.csv')\n",
        "sellers=pd.read_csv('/content/sellers.csv')"
      ],
      "execution_count": 4,
      "outputs": []
    },
    {
      "cell_type": "code",
      "metadata": {
        "id": "CR638bn2Mmrm",
        "outputId": "0a61f074-fc97-4567-bc90-c975d995b3aa",
        "colab": {
          "base_uri": "https://localhost:8080/",
          "height": 34
        }
      },
      "source": [
        "Buyer_count=customers['customer_id'].count()\n",
        "print(Buyer_count)"
      ],
      "execution_count": 5,
      "outputs": [
        {
          "output_type": "stream",
          "text": [
            "34626\n"
          ],
          "name": "stdout"
        }
      ]
    },
    {
      "cell_type": "code",
      "metadata": {
        "id": "ChlUQJMqNWVn",
        "outputId": "2c984b1a-af6d-46f2-e37f-de5d62eac477",
        "colab": {
          "base_uri": "https://localhost:8080/",
          "height": 34
        }
      },
      "source": [
        "product_count=product_category_name['product_category_name'].count()\n",
        "print(product_count)"
      ],
      "execution_count": 6,
      "outputs": [
        {
          "output_type": "stream",
          "text": [
            "71\n"
          ],
          "name": "stdout"
        }
      ]
    },
    {
      "cell_type": "code",
      "metadata": {
        "id": "Mqx85aYoPYFJ",
        "outputId": "1f4755d9-84a0-435e-b8ec-8461bdbff424",
        "colab": {
          "base_uri": "https://localhost:8080/",
          "height": 224
        }
      },
      "source": [
        "#merging oreders and customers data\n",
        "ordercust=pd.merge(order,customers,on='customer_id')\n",
        "ordercust.head()"
      ],
      "execution_count": 7,
      "outputs": [
        {
          "output_type": "execute_result",
          "data": {
            "text/html": [
              "<div>\n",
              "<style scoped>\n",
              "    .dataframe tbody tr th:only-of-type {\n",
              "        vertical-align: middle;\n",
              "    }\n",
              "\n",
              "    .dataframe tbody tr th {\n",
              "        vertical-align: top;\n",
              "    }\n",
              "\n",
              "    .dataframe thead th {\n",
              "        text-align: right;\n",
              "    }\n",
              "</style>\n",
              "<table border=\"1\" class=\"dataframe\">\n",
              "  <thead>\n",
              "    <tr style=\"text-align: right;\">\n",
              "      <th></th>\n",
              "      <th>order_id</th>\n",
              "      <th>customer_id</th>\n",
              "      <th>order_status</th>\n",
              "      <th>order_purchase_timestamp</th>\n",
              "      <th>order_approved_at</th>\n",
              "      <th>order_delivered_carrier_date</th>\n",
              "      <th>order_delivered_customer_date</th>\n",
              "      <th>order_estimated_delivery_date</th>\n",
              "      <th>customer_unique_id</th>\n",
              "      <th>customer_zip_code_prefix</th>\n",
              "      <th>customer_city</th>\n",
              "      <th>customer_state</th>\n",
              "    </tr>\n",
              "  </thead>\n",
              "  <tbody>\n",
              "    <tr>\n",
              "      <th>0</th>\n",
              "      <td>47770eb9100c2d0c44946d9cf07ec65d</td>\n",
              "      <td>41ce2a54c0b03bf3443c3d931a367089</td>\n",
              "      <td>delivered</td>\n",
              "      <td>2018-08-08 08:38:49</td>\n",
              "      <td>2018-08-08 08:55:23</td>\n",
              "      <td>2018-08-08 13:50:00</td>\n",
              "      <td>2018-08-17 18:06:29</td>\n",
              "      <td>2018-09-04 00:00:00</td>\n",
              "      <td>3a653a41f6f9fc3d2a113cf8398680e8</td>\n",
              "      <td>75265.0</td>\n",
              "      <td>vianopolis</td>\n",
              "      <td>GO</td>\n",
              "    </tr>\n",
              "    <tr>\n",
              "      <th>1</th>\n",
              "      <td>e6ce16cb79ec1d90b1da9085a6118aeb</td>\n",
              "      <td>494dded5b201313c64ed7f100595b95c</td>\n",
              "      <td>delivered</td>\n",
              "      <td>2017-05-16 19:41:10</td>\n",
              "      <td>2017-05-16 19:50:18</td>\n",
              "      <td>2017-05-18 11:40:40</td>\n",
              "      <td>2017-05-29 11:18:31</td>\n",
              "      <td>2017-06-07 00:00:00</td>\n",
              "      <td>f2a85dec752b8517b5e58a06ff3cd937</td>\n",
              "      <td>20780.0</td>\n",
              "      <td>rio de janeiro</td>\n",
              "      <td>RJ</td>\n",
              "    </tr>\n",
              "    <tr>\n",
              "      <th>2</th>\n",
              "      <td>82566a660a982b15fb86e904c8d32918</td>\n",
              "      <td>d3e3b74c766bc6214e0c830b17ee2341</td>\n",
              "      <td>delivered</td>\n",
              "      <td>2018-06-07 10:06:19</td>\n",
              "      <td>2018-06-09 03:13:12</td>\n",
              "      <td>2018-06-11 13:29:00</td>\n",
              "      <td>2018-06-19 12:05:52</td>\n",
              "      <td>2018-07-18 00:00:00</td>\n",
              "      <td>e97109680b052ee858d93a539597bba7</td>\n",
              "      <td>35400.0</td>\n",
              "      <td>ouro preto</td>\n",
              "      <td>MG</td>\n",
              "    </tr>\n",
              "    <tr>\n",
              "      <th>3</th>\n",
              "      <td>432aaf21d85167c2c86ec9448c4e42cc</td>\n",
              "      <td>3df704f53d3f1d4818840b34ec672a9f</td>\n",
              "      <td>delivered</td>\n",
              "      <td>2018-03-01 14:14:28</td>\n",
              "      <td>2018-03-01 15:10:47</td>\n",
              "      <td>2018-03-02 21:09:20</td>\n",
              "      <td>2018-03-12 23:36:26</td>\n",
              "      <td>2018-03-21 00:00:00</td>\n",
              "      <td>04cf8185c71090d28baa4407b2e6d600</td>\n",
              "      <td>5271.0</td>\n",
              "      <td>sao paulo</td>\n",
              "      <td>SP</td>\n",
              "    </tr>\n",
              "    <tr>\n",
              "      <th>4</th>\n",
              "      <td>dcb36b511fcac050b97cd5c05de84dc3</td>\n",
              "      <td>3b6828a50ffe546942b7a473d70ac0fc</td>\n",
              "      <td>delivered</td>\n",
              "      <td>2018-06-07 19:03:12</td>\n",
              "      <td>2018-06-12 23:31:02</td>\n",
              "      <td>2018-06-11 14:54:00</td>\n",
              "      <td>2018-06-21 15:34:32</td>\n",
              "      <td>2018-07-04 00:00:00</td>\n",
              "      <td>ccafc1c3f270410521c3c6f3b249870f</td>\n",
              "      <td>74820.0</td>\n",
              "      <td>goiania</td>\n",
              "      <td>GO</td>\n",
              "    </tr>\n",
              "  </tbody>\n",
              "</table>\n",
              "</div>"
            ],
            "text/plain": [
              "                           order_id  ... customer_state\n",
              "0  47770eb9100c2d0c44946d9cf07ec65d  ...             GO\n",
              "1  e6ce16cb79ec1d90b1da9085a6118aeb  ...             RJ\n",
              "2  82566a660a982b15fb86e904c8d32918  ...             MG\n",
              "3  432aaf21d85167c2c86ec9448c4e42cc  ...             SP\n",
              "4  dcb36b511fcac050b97cd5c05de84dc3  ...             GO\n",
              "\n",
              "[5 rows x 12 columns]"
            ]
          },
          "metadata": {
            "tags": []
          },
          "execution_count": 7
        }
      ]
    },
    {
      "cell_type": "code",
      "metadata": {
        "id": "2mVPDxN-Stdu",
        "outputId": "1f83bf6b-fce1-4bc6-b412-7d31d39aad7e",
        "colab": {
          "base_uri": "https://localhost:8080/",
          "height": 204
        }
      },
      "source": [
        "ordercust=ordercust.drop(labels=['order_status','order_approved_at','customer_unique_id','order_estimated_delivery_date','order_delivered_carrier_date','order_delivered_customer_date','customer_zip_code_prefix','customer_city','customer_state'],axis=1)\n",
        "ordercust.head()"
      ],
      "execution_count": 8,
      "outputs": [
        {
          "output_type": "execute_result",
          "data": {
            "text/html": [
              "<div>\n",
              "<style scoped>\n",
              "    .dataframe tbody tr th:only-of-type {\n",
              "        vertical-align: middle;\n",
              "    }\n",
              "\n",
              "    .dataframe tbody tr th {\n",
              "        vertical-align: top;\n",
              "    }\n",
              "\n",
              "    .dataframe thead th {\n",
              "        text-align: right;\n",
              "    }\n",
              "</style>\n",
              "<table border=\"1\" class=\"dataframe\">\n",
              "  <thead>\n",
              "    <tr style=\"text-align: right;\">\n",
              "      <th></th>\n",
              "      <th>order_id</th>\n",
              "      <th>customer_id</th>\n",
              "      <th>order_purchase_timestamp</th>\n",
              "    </tr>\n",
              "  </thead>\n",
              "  <tbody>\n",
              "    <tr>\n",
              "      <th>0</th>\n",
              "      <td>47770eb9100c2d0c44946d9cf07ec65d</td>\n",
              "      <td>41ce2a54c0b03bf3443c3d931a367089</td>\n",
              "      <td>2018-08-08 08:38:49</td>\n",
              "    </tr>\n",
              "    <tr>\n",
              "      <th>1</th>\n",
              "      <td>e6ce16cb79ec1d90b1da9085a6118aeb</td>\n",
              "      <td>494dded5b201313c64ed7f100595b95c</td>\n",
              "      <td>2017-05-16 19:41:10</td>\n",
              "    </tr>\n",
              "    <tr>\n",
              "      <th>2</th>\n",
              "      <td>82566a660a982b15fb86e904c8d32918</td>\n",
              "      <td>d3e3b74c766bc6214e0c830b17ee2341</td>\n",
              "      <td>2018-06-07 10:06:19</td>\n",
              "    </tr>\n",
              "    <tr>\n",
              "      <th>3</th>\n",
              "      <td>432aaf21d85167c2c86ec9448c4e42cc</td>\n",
              "      <td>3df704f53d3f1d4818840b34ec672a9f</td>\n",
              "      <td>2018-03-01 14:14:28</td>\n",
              "    </tr>\n",
              "    <tr>\n",
              "      <th>4</th>\n",
              "      <td>dcb36b511fcac050b97cd5c05de84dc3</td>\n",
              "      <td>3b6828a50ffe546942b7a473d70ac0fc</td>\n",
              "      <td>2018-06-07 19:03:12</td>\n",
              "    </tr>\n",
              "  </tbody>\n",
              "</table>\n",
              "</div>"
            ],
            "text/plain": [
              "                           order_id  ... order_purchase_timestamp\n",
              "0  47770eb9100c2d0c44946d9cf07ec65d  ...      2018-08-08 08:38:49\n",
              "1  e6ce16cb79ec1d90b1da9085a6118aeb  ...      2017-05-16 19:41:10\n",
              "2  82566a660a982b15fb86e904c8d32918  ...      2018-06-07 10:06:19\n",
              "3  432aaf21d85167c2c86ec9448c4e42cc  ...      2018-03-01 14:14:28\n",
              "4  dcb36b511fcac050b97cd5c05de84dc3  ...      2018-06-07 19:03:12\n",
              "\n",
              "[5 rows x 3 columns]"
            ]
          },
          "metadata": {
            "tags": []
          },
          "execution_count": 8
        }
      ]
    },
    {
      "cell_type": "code",
      "metadata": {
        "id": "UsyTGPllUUJk",
        "outputId": "b5f82a8d-fae5-4681-b677-acccaafa387c",
        "colab": {
          "base_uri": "https://localhost:8080/",
          "height": 187
        }
      },
      "source": [
        "ordercust.info()"
      ],
      "execution_count": 9,
      "outputs": [
        {
          "output_type": "stream",
          "text": [
            "<class 'pandas.core.frame.DataFrame'>\n",
            "Int64Index: 4144 entries, 0 to 4143\n",
            "Data columns (total 3 columns):\n",
            " #   Column                    Non-Null Count  Dtype \n",
            "---  ------                    --------------  ----- \n",
            " 0   order_id                  4144 non-null   object\n",
            " 1   customer_id               4144 non-null   object\n",
            " 2   order_purchase_timestamp  4144 non-null   object\n",
            "dtypes: object(3)\n",
            "memory usage: 129.5+ KB\n"
          ],
          "name": "stdout"
        }
      ]
    },
    {
      "cell_type": "code",
      "metadata": {
        "id": "5ZfY7Y-7y1rY",
        "outputId": "e2ce908b-ac05-4701-cc17-03753532ec9b",
        "colab": {
          "base_uri": "https://localhost:8080/",
          "height": 85
        }
      },
      "source": [
        "ordercust.isnull().sum()"
      ],
      "execution_count": 10,
      "outputs": [
        {
          "output_type": "execute_result",
          "data": {
            "text/plain": [
              "order_id                    0\n",
              "customer_id                 0\n",
              "order_purchase_timestamp    0\n",
              "dtype: int64"
            ]
          },
          "metadata": {
            "tags": []
          },
          "execution_count": 10
        }
      ]
    },
    {
      "cell_type": "code",
      "metadata": {
        "id": "2fdCr97d4FQS"
      },
      "source": [
        "#merging order item with order payment\n",
        "itempay=pd.merge(order_idems,order_payments,on=\"order_id\")"
      ],
      "execution_count": 11,
      "outputs": []
    },
    {
      "cell_type": "code",
      "metadata": {
        "id": "piwmYRQM4FKv",
        "outputId": "5ba1ca02-bfbf-4e24-f7bd-6dedb00de631",
        "colab": {
          "base_uri": "https://localhost:8080/",
          "height": 224
        }
      },
      "source": [
        "itempay.head()"
      ],
      "execution_count": 12,
      "outputs": [
        {
          "output_type": "execute_result",
          "data": {
            "text/html": [
              "<div>\n",
              "<style scoped>\n",
              "    .dataframe tbody tr th:only-of-type {\n",
              "        vertical-align: middle;\n",
              "    }\n",
              "\n",
              "    .dataframe tbody tr th {\n",
              "        vertical-align: top;\n",
              "    }\n",
              "\n",
              "    .dataframe thead th {\n",
              "        text-align: right;\n",
              "    }\n",
              "</style>\n",
              "<table border=\"1\" class=\"dataframe\">\n",
              "  <thead>\n",
              "    <tr style=\"text-align: right;\">\n",
              "      <th></th>\n",
              "      <th>order_id</th>\n",
              "      <th>order_item_id</th>\n",
              "      <th>product_id</th>\n",
              "      <th>seller_id</th>\n",
              "      <th>shipping_limit_date</th>\n",
              "      <th>price</th>\n",
              "      <th>freight_value</th>\n",
              "      <th>payment_sequential</th>\n",
              "      <th>payment_type</th>\n",
              "      <th>payment_installments</th>\n",
              "      <th>payment_value</th>\n",
              "    </tr>\n",
              "  </thead>\n",
              "  <tbody>\n",
              "    <tr>\n",
              "      <th>0</th>\n",
              "      <td>00018f77f2f0320c557190d7a144bdd3</td>\n",
              "      <td>1</td>\n",
              "      <td>e5f2d52b802189ee658865ca93d83a8f</td>\n",
              "      <td>dd7ddc04e1b6c2c614352b383efe2d36</td>\n",
              "      <td>5/3/2017 11:05</td>\n",
              "      <td>551.770</td>\n",
              "      <td>25.909</td>\n",
              "      <td>1.0</td>\n",
              "      <td>credit_card</td>\n",
              "      <td>6.0</td>\n",
              "      <td>597.61</td>\n",
              "    </tr>\n",
              "    <tr>\n",
              "      <th>1</th>\n",
              "      <td>000229ec398224ef6ca0657da4fc703e</td>\n",
              "      <td>1</td>\n",
              "      <td>c777355d18b72b67abbeef9df44fd0fd</td>\n",
              "      <td>5b51032eddd242adc84c38acab88f23d</td>\n",
              "      <td>1/18/2018 14:48</td>\n",
              "      <td>457.700</td>\n",
              "      <td>23.231</td>\n",
              "      <td>1.0</td>\n",
              "      <td>credit_card</td>\n",
              "      <td>10.0</td>\n",
              "      <td>498.80</td>\n",
              "    </tr>\n",
              "    <tr>\n",
              "      <th>2</th>\n",
              "      <td>00024acbcdf0a6daa1e931b038114c75</td>\n",
              "      <td>1</td>\n",
              "      <td>7634da152a4610f1595efa32f14722fc</td>\n",
              "      <td>9d7a1d34a5052409006425275ba1c2b4</td>\n",
              "      <td>8/15/2018 10:10</td>\n",
              "      <td>29.877</td>\n",
              "      <td>16.627</td>\n",
              "      <td>1.0</td>\n",
              "      <td>credit_card</td>\n",
              "      <td>4.0</td>\n",
              "      <td>59.29</td>\n",
              "    </tr>\n",
              "    <tr>\n",
              "      <th>3</th>\n",
              "      <td>00048cc3ae777c65dbb7d2a0634bc1ea</td>\n",
              "      <td>1</td>\n",
              "      <td>ef92defde845ab8450f9d70c526ef70f</td>\n",
              "      <td>6426d21aca402a131fc0a5d0960a3c90</td>\n",
              "      <td>5/23/2017 3:55</td>\n",
              "      <td>50.370</td>\n",
              "      <td>16.497</td>\n",
              "      <td>1.0</td>\n",
              "      <td>boleto</td>\n",
              "      <td>2.0</td>\n",
              "      <td>79.56</td>\n",
              "    </tr>\n",
              "    <tr>\n",
              "      <th>4</th>\n",
              "      <td>00054e8431b9d7675808bcb819fb4a32</td>\n",
              "      <td>1</td>\n",
              "      <td>8d4f2bb7e93e6710a28f34fa83ee7d28</td>\n",
              "      <td>7040e82f899a04d1b434b795a43b4617</td>\n",
              "      <td>12/14/2017 12:10</td>\n",
              "      <td>45.770</td>\n",
              "      <td>15.405</td>\n",
              "      <td>1.0</td>\n",
              "      <td>credit_card</td>\n",
              "      <td>2.0</td>\n",
              "      <td>73.03</td>\n",
              "    </tr>\n",
              "  </tbody>\n",
              "</table>\n",
              "</div>"
            ],
            "text/plain": [
              "                           order_id  ...  payment_value\n",
              "0  00018f77f2f0320c557190d7a144bdd3  ...         597.61\n",
              "1  000229ec398224ef6ca0657da4fc703e  ...         498.80\n",
              "2  00024acbcdf0a6daa1e931b038114c75  ...          59.29\n",
              "3  00048cc3ae777c65dbb7d2a0634bc1ea  ...          79.56\n",
              "4  00054e8431b9d7675808bcb819fb4a32  ...          73.03\n",
              "\n",
              "[5 rows x 11 columns]"
            ]
          },
          "metadata": {
            "tags": []
          },
          "execution_count": 12
        }
      ]
    },
    {
      "cell_type": "code",
      "metadata": {
        "id": "72vCCzvc6b6y",
        "outputId": "ae7586c3-eb18-452a-a1fd-4e1448a3dd97",
        "colab": {
          "base_uri": "https://localhost:8080/",
          "height": 119
        }
      },
      "source": [
        "itempay.groupby('payment_type').count().order_id"
      ],
      "execution_count": 13,
      "outputs": [
        {
          "output_type": "execute_result",
          "data": {
            "text/plain": [
              "payment_type\n",
              "boleto          2606\n",
              "credit_card    10069\n",
              "debit_card       194\n",
              "voucher          731\n",
              "Name: order_id, dtype: int64"
            ]
          },
          "metadata": {
            "tags": []
          },
          "execution_count": 13
        }
      ]
    },
    {
      "cell_type": "code",
      "metadata": {
        "id": "Am95dgcf5Lk2",
        "outputId": "b7a1bc05-c5df-488b-ba00-3695762965a7",
        "colab": {
          "base_uri": "https://localhost:8080/",
          "height": 323
        }
      },
      "source": [
        "itempay.info()"
      ],
      "execution_count": 14,
      "outputs": [
        {
          "output_type": "stream",
          "text": [
            "<class 'pandas.core.frame.DataFrame'>\n",
            "Int64Index: 13600 entries, 0 to 13599\n",
            "Data columns (total 11 columns):\n",
            " #   Column                Non-Null Count  Dtype  \n",
            "---  ------                --------------  -----  \n",
            " 0   order_id              13600 non-null  object \n",
            " 1   order_item_id         13600 non-null  int64  \n",
            " 2   product_id            13600 non-null  object \n",
            " 3   seller_id             13600 non-null  object \n",
            " 4   shipping_limit_date   13600 non-null  object \n",
            " 5   price                 13600 non-null  float64\n",
            " 6   freight_value         13600 non-null  float64\n",
            " 7   payment_sequential    13600 non-null  float64\n",
            " 8   payment_type          13600 non-null  object \n",
            " 9   payment_installments  13600 non-null  float64\n",
            " 10  payment_value         13600 non-null  float64\n",
            "dtypes: float64(5), int64(1), object(5)\n",
            "memory usage: 1.2+ MB\n"
          ],
          "name": "stdout"
        }
      ]
    },
    {
      "cell_type": "code",
      "metadata": {
        "id": "MMXdJrtp8lHX",
        "outputId": "99026da2-7b12-4a71-b683-c83e719b0ec2",
        "colab": {
          "base_uri": "https://localhost:8080/",
          "height": 224
        }
      },
      "source": [
        "itempay=itempay.drop(labels=['payment_sequential','payment_installments'],axis=1)\n",
        "itempay.head()"
      ],
      "execution_count": 15,
      "outputs": [
        {
          "output_type": "execute_result",
          "data": {
            "text/html": [
              "<div>\n",
              "<style scoped>\n",
              "    .dataframe tbody tr th:only-of-type {\n",
              "        vertical-align: middle;\n",
              "    }\n",
              "\n",
              "    .dataframe tbody tr th {\n",
              "        vertical-align: top;\n",
              "    }\n",
              "\n",
              "    .dataframe thead th {\n",
              "        text-align: right;\n",
              "    }\n",
              "</style>\n",
              "<table border=\"1\" class=\"dataframe\">\n",
              "  <thead>\n",
              "    <tr style=\"text-align: right;\">\n",
              "      <th></th>\n",
              "      <th>order_id</th>\n",
              "      <th>order_item_id</th>\n",
              "      <th>product_id</th>\n",
              "      <th>seller_id</th>\n",
              "      <th>shipping_limit_date</th>\n",
              "      <th>price</th>\n",
              "      <th>freight_value</th>\n",
              "      <th>payment_type</th>\n",
              "      <th>payment_value</th>\n",
              "    </tr>\n",
              "  </thead>\n",
              "  <tbody>\n",
              "    <tr>\n",
              "      <th>0</th>\n",
              "      <td>00018f77f2f0320c557190d7a144bdd3</td>\n",
              "      <td>1</td>\n",
              "      <td>e5f2d52b802189ee658865ca93d83a8f</td>\n",
              "      <td>dd7ddc04e1b6c2c614352b383efe2d36</td>\n",
              "      <td>5/3/2017 11:05</td>\n",
              "      <td>551.770</td>\n",
              "      <td>25.909</td>\n",
              "      <td>credit_card</td>\n",
              "      <td>597.61</td>\n",
              "    </tr>\n",
              "    <tr>\n",
              "      <th>1</th>\n",
              "      <td>000229ec398224ef6ca0657da4fc703e</td>\n",
              "      <td>1</td>\n",
              "      <td>c777355d18b72b67abbeef9df44fd0fd</td>\n",
              "      <td>5b51032eddd242adc84c38acab88f23d</td>\n",
              "      <td>1/18/2018 14:48</td>\n",
              "      <td>457.700</td>\n",
              "      <td>23.231</td>\n",
              "      <td>credit_card</td>\n",
              "      <td>498.80</td>\n",
              "    </tr>\n",
              "    <tr>\n",
              "      <th>2</th>\n",
              "      <td>00024acbcdf0a6daa1e931b038114c75</td>\n",
              "      <td>1</td>\n",
              "      <td>7634da152a4610f1595efa32f14722fc</td>\n",
              "      <td>9d7a1d34a5052409006425275ba1c2b4</td>\n",
              "      <td>8/15/2018 10:10</td>\n",
              "      <td>29.877</td>\n",
              "      <td>16.627</td>\n",
              "      <td>credit_card</td>\n",
              "      <td>59.29</td>\n",
              "    </tr>\n",
              "    <tr>\n",
              "      <th>3</th>\n",
              "      <td>00048cc3ae777c65dbb7d2a0634bc1ea</td>\n",
              "      <td>1</td>\n",
              "      <td>ef92defde845ab8450f9d70c526ef70f</td>\n",
              "      <td>6426d21aca402a131fc0a5d0960a3c90</td>\n",
              "      <td>5/23/2017 3:55</td>\n",
              "      <td>50.370</td>\n",
              "      <td>16.497</td>\n",
              "      <td>boleto</td>\n",
              "      <td>79.56</td>\n",
              "    </tr>\n",
              "    <tr>\n",
              "      <th>4</th>\n",
              "      <td>00054e8431b9d7675808bcb819fb4a32</td>\n",
              "      <td>1</td>\n",
              "      <td>8d4f2bb7e93e6710a28f34fa83ee7d28</td>\n",
              "      <td>7040e82f899a04d1b434b795a43b4617</td>\n",
              "      <td>12/14/2017 12:10</td>\n",
              "      <td>45.770</td>\n",
              "      <td>15.405</td>\n",
              "      <td>credit_card</td>\n",
              "      <td>73.03</td>\n",
              "    </tr>\n",
              "  </tbody>\n",
              "</table>\n",
              "</div>"
            ],
            "text/plain": [
              "                           order_id  order_item_id  ... payment_type payment_value\n",
              "0  00018f77f2f0320c557190d7a144bdd3              1  ...  credit_card        597.61\n",
              "1  000229ec398224ef6ca0657da4fc703e              1  ...  credit_card        498.80\n",
              "2  00024acbcdf0a6daa1e931b038114c75              1  ...  credit_card         59.29\n",
              "3  00048cc3ae777c65dbb7d2a0634bc1ea              1  ...       boleto         79.56\n",
              "4  00054e8431b9d7675808bcb819fb4a32              1  ...  credit_card         73.03\n",
              "\n",
              "[5 rows x 9 columns]"
            ]
          },
          "metadata": {
            "tags": []
          },
          "execution_count": 15
        }
      ]
    },
    {
      "cell_type": "code",
      "metadata": {
        "id": "-EpVHDJjAptT",
        "outputId": "76506393-7575-4d22-9fae-12dfa6f88101",
        "colab": {
          "base_uri": "https://localhost:8080/",
          "height": 187
        }
      },
      "source": [
        "itempay.isnull().sum()"
      ],
      "execution_count": 16,
      "outputs": [
        {
          "output_type": "execute_result",
          "data": {
            "text/plain": [
              "order_id               0\n",
              "order_item_id          0\n",
              "product_id             0\n",
              "seller_id              0\n",
              "shipping_limit_date    0\n",
              "price                  0\n",
              "freight_value          0\n",
              "payment_type           0\n",
              "payment_value          0\n",
              "dtype: int64"
            ]
          },
          "metadata": {
            "tags": []
          },
          "execution_count": 16
        }
      ]
    },
    {
      "cell_type": "code",
      "metadata": {
        "id": "1i3hQiuVBFmk"
      },
      "source": [
        "itempay=itempay.dropna(axis=0)"
      ],
      "execution_count": 17,
      "outputs": []
    },
    {
      "cell_type": "code",
      "metadata": {
        "id": "d2AZLU4NBXkk",
        "outputId": "173f4db1-492a-4061-afeb-2441110b8ac5",
        "colab": {
          "base_uri": "https://localhost:8080/",
          "height": 187
        }
      },
      "source": [
        "itempay.isnull().sum()"
      ],
      "execution_count": 18,
      "outputs": [
        {
          "output_type": "execute_result",
          "data": {
            "text/plain": [
              "order_id               0\n",
              "order_item_id          0\n",
              "product_id             0\n",
              "seller_id              0\n",
              "shipping_limit_date    0\n",
              "price                  0\n",
              "freight_value          0\n",
              "payment_type           0\n",
              "payment_value          0\n",
              "dtype: int64"
            ]
          },
          "metadata": {
            "tags": []
          },
          "execution_count": 18
        }
      ]
    },
    {
      "cell_type": "code",
      "metadata": {
        "id": "tBaZ_AnNL_g2",
        "outputId": "a756d794-799c-42cb-f758-6f2f41c6faa6",
        "colab": {
          "base_uri": "https://localhost:8080/",
          "height": 353
        }
      },
      "source": [
        "sns.heatmap(itempay.corr())"
      ],
      "execution_count": 19,
      "outputs": [
        {
          "output_type": "execute_result",
          "data": {
            "text/plain": [
              "<matplotlib.axes._subplots.AxesSubplot at 0x7f68cd8dca20>"
            ]
          },
          "metadata": {
            "tags": []
          },
          "execution_count": 19
        },
        {
          "output_type": "display_data",
          "data": {
            "image/png": "[encoded data removed]",
            "text/plain": [
              "<Figure size 432x288 with 2 Axes>"
            ]
          },
          "metadata": {
            "tags": [],
            "needs_background": "light"
          }
        }
      ]
    },
    {
      "cell_type": "code",
      "metadata": {
        "id": "0DQSZF-mzFl4"
      },
      "source": [
        "#merging product name with products\n",
        "prod=pd.merge(product_category_name,products,on='product_category_name')"
      ],
      "execution_count": 20,
      "outputs": []
    },
    {
      "cell_type": "code",
      "metadata": {
        "id": "Bn-CYdcHzF3K",
        "outputId": "183c71f7-bec1-4aa3-f5c3-9ec158bccf6f",
        "colab": {
          "base_uri": "https://localhost:8080/",
          "height": 306
        }
      },
      "source": [
        "prod.info()"
      ],
      "execution_count": 21,
      "outputs": [
        {
          "output_type": "stream",
          "text": [
            "<class 'pandas.core.frame.DataFrame'>\n",
            "Int64Index: 32328 entries, 0 to 32327\n",
            "Data columns (total 10 columns):\n",
            " #   Column                         Non-Null Count  Dtype  \n",
            "---  ------                         --------------  -----  \n",
            " 0   product_category_name          32328 non-null  object \n",
            " 1   product_category_name_english  32328 non-null  object \n",
            " 2   product_id                     32328 non-null  object \n",
            " 3   product_name_lenght            32328 non-null  float64\n",
            " 4   product_description_lenght     32328 non-null  float64\n",
            " 5   product_photos_qty             32328 non-null  float64\n",
            " 6   product_weight_g               32327 non-null  float64\n",
            " 7   product_length_cm              32327 non-null  float64\n",
            " 8   product_height_cm              32327 non-null  float64\n",
            " 9   product_width_cm               32327 non-null  float64\n",
            "dtypes: float64(7), object(3)\n",
            "memory usage: 2.7+ MB\n"
          ],
          "name": "stdout"
        }
      ]
    },
    {
      "cell_type": "code",
      "metadata": {
        "id": "eVGrcMDQ2vXG",
        "outputId": "769d91a0-c7d2-47c5-d535-4c0cbbf99cf9",
        "colab": {
          "base_uri": "https://localhost:8080/",
          "height": 204
        }
      },
      "source": [
        "prod=prod.drop(labels=['product_category_name','product_name_lenght','product_description_lenght','product_photos_qty','product_weight_g','product_length_cm','product_height_cm','product_width_cm'],axis=1)\n",
        "prod.head()"
      ],
      "execution_count": 22,
      "outputs": [
        {
          "output_type": "execute_result",
          "data": {
            "text/html": [
              "<div>\n",
              "<style scoped>\n",
              "    .dataframe tbody tr th:only-of-type {\n",
              "        vertical-align: middle;\n",
              "    }\n",
              "\n",
              "    .dataframe tbody tr th {\n",
              "        vertical-align: top;\n",
              "    }\n",
              "\n",
              "    .dataframe thead th {\n",
              "        text-align: right;\n",
              "    }\n",
              "</style>\n",
              "<table border=\"1\" class=\"dataframe\">\n",
              "  <thead>\n",
              "    <tr style=\"text-align: right;\">\n",
              "      <th></th>\n",
              "      <th>product_category_name_english</th>\n",
              "      <th>product_id</th>\n",
              "    </tr>\n",
              "  </thead>\n",
              "  <tbody>\n",
              "    <tr>\n",
              "      <th>0</th>\n",
              "      <td>health_beauty</td>\n",
              "      <td>e3e020af31d4d89d2602272b315c3f6e</td>\n",
              "    </tr>\n",
              "    <tr>\n",
              "      <th>1</th>\n",
              "      <td>health_beauty</td>\n",
              "      <td>c5d8079278e912d7e3b6beb48ecb56e8</td>\n",
              "    </tr>\n",
              "    <tr>\n",
              "      <th>2</th>\n",
              "      <td>health_beauty</td>\n",
              "      <td>36555a2f528d7b2a255c504191445d39</td>\n",
              "    </tr>\n",
              "    <tr>\n",
              "      <th>3</th>\n",
              "      <td>health_beauty</td>\n",
              "      <td>e586ebb6022265ae1eea38f46ffe3ead</td>\n",
              "    </tr>\n",
              "    <tr>\n",
              "      <th>4</th>\n",
              "      <td>health_beauty</td>\n",
              "      <td>75b4372e69a42f8ae1d908c076f547b2</td>\n",
              "    </tr>\n",
              "  </tbody>\n",
              "</table>\n",
              "</div>"
            ],
            "text/plain": [
              "  product_category_name_english                        product_id\n",
              "0                 health_beauty  e3e020af31d4d89d2602272b315c3f6e\n",
              "1                 health_beauty  c5d8079278e912d7e3b6beb48ecb56e8\n",
              "2                 health_beauty  36555a2f528d7b2a255c504191445d39\n",
              "3                 health_beauty  e586ebb6022265ae1eea38f46ffe3ead\n",
              "4                 health_beauty  75b4372e69a42f8ae1d908c076f547b2"
            ]
          },
          "metadata": {
            "tags": []
          },
          "execution_count": 22
        }
      ]
    },
    {
      "cell_type": "code",
      "metadata": {
        "id": "p813ik7e4Rta",
        "outputId": "ce6f2d08-1321-49e7-bc86-862d1b40d7ba",
        "colab": {
          "base_uri": "https://localhost:8080/",
          "height": 68
        }
      },
      "source": [
        "prod.isnull().sum()"
      ],
      "execution_count": 23,
      "outputs": [
        {
          "output_type": "execute_result",
          "data": {
            "text/plain": [
              "product_category_name_english    0\n",
              "product_id                       0\n",
              "dtype: int64"
            ]
          },
          "metadata": {
            "tags": []
          },
          "execution_count": 23
        }
      ]
    },
    {
      "cell_type": "code",
      "metadata": {
        "id": "PjwHjVFT31_q",
        "outputId": "fbb22b33-fef4-47d9-ecc5-c0e66f63fc05",
        "colab": {
          "base_uri": "https://localhost:8080/",
          "height": 170
        }
      },
      "source": [
        "prod.info()"
      ],
      "execution_count": 24,
      "outputs": [
        {
          "output_type": "stream",
          "text": [
            "<class 'pandas.core.frame.DataFrame'>\n",
            "Int64Index: 32328 entries, 0 to 32327\n",
            "Data columns (total 2 columns):\n",
            " #   Column                         Non-Null Count  Dtype \n",
            "---  ------                         --------------  ----- \n",
            " 0   product_category_name_english  32328 non-null  object\n",
            " 1   product_id                     32328 non-null  object\n",
            "dtypes: object(2)\n",
            "memory usage: 757.7+ KB\n"
          ],
          "name": "stdout"
        }
      ]
    },
    {
      "cell_type": "code",
      "metadata": {
        "id": "IhBAf5vE4ZuL"
      },
      "source": [
        "#now merging all datasets\n",
        "data=pd.merge(prod,itempay,on='product_id')"
      ],
      "execution_count": 25,
      "outputs": []
    },
    {
      "cell_type": "code",
      "metadata": {
        "id": "3jMq2arD4Zqh",
        "outputId": "5aed61b7-4c35-4233-99ef-d316ff27e5f8",
        "colab": {
          "base_uri": "https://localhost:8080/",
          "height": 224
        }
      },
      "source": [
        "data.head()"
      ],
      "execution_count": 26,
      "outputs": [
        {
          "output_type": "execute_result",
          "data": {
            "text/html": [
              "<div>\n",
              "<style scoped>\n",
              "    .dataframe tbody tr th:only-of-type {\n",
              "        vertical-align: middle;\n",
              "    }\n",
              "\n",
              "    .dataframe tbody tr th {\n",
              "        vertical-align: top;\n",
              "    }\n",
              "\n",
              "    .dataframe thead th {\n",
              "        text-align: right;\n",
              "    }\n",
              "</style>\n",
              "<table border=\"1\" class=\"dataframe\">\n",
              "  <thead>\n",
              "    <tr style=\"text-align: right;\">\n",
              "      <th></th>\n",
              "      <th>product_category_name_english</th>\n",
              "      <th>product_id</th>\n",
              "      <th>order_id</th>\n",
              "      <th>order_item_id</th>\n",
              "      <th>seller_id</th>\n",
              "      <th>shipping_limit_date</th>\n",
              "      <th>price</th>\n",
              "      <th>freight_value</th>\n",
              "      <th>payment_type</th>\n",
              "      <th>payment_value</th>\n",
              "    </tr>\n",
              "  </thead>\n",
              "  <tbody>\n",
              "    <tr>\n",
              "      <th>0</th>\n",
              "      <td>health_beauty</td>\n",
              "      <td>adf591c625cb265c12bc6749d3a2f757</td>\n",
              "      <td>00c4f17dcb94448f27a2cbaa83f10a4b</td>\n",
              "      <td>1</td>\n",
              "      <td>a420f60ff1aa9acc80d0e42959f2b313</td>\n",
              "      <td>6/12/2018 20:31</td>\n",
              "      <td>73.60</td>\n",
              "      <td>9.607</td>\n",
              "      <td>credit_card</td>\n",
              "      <td>90.60</td>\n",
              "    </tr>\n",
              "    <tr>\n",
              "      <th>1</th>\n",
              "      <td>health_beauty</td>\n",
              "      <td>aba0932cedf32b2a7b6b832f11769613</td>\n",
              "      <td>0c53c83ddb6fc0f6d915cda471c0aee5</td>\n",
              "      <td>1</td>\n",
              "      <td>a416b6a846a11724393025641d4edd5e</td>\n",
              "      <td>9/5/2017 20:10</td>\n",
              "      <td>724.50</td>\n",
              "      <td>25.298</td>\n",
              "      <td>credit_card</td>\n",
              "      <td>769.26</td>\n",
              "    </tr>\n",
              "    <tr>\n",
              "      <th>2</th>\n",
              "      <td>health_beauty</td>\n",
              "      <td>bc4a074ab7a7ff14e98fa64671a79dc0</td>\n",
              "      <td>123eb6c42fb774382bf82e6a332af592</td>\n",
              "      <td>1</td>\n",
              "      <td>4e17c65a516f69d023a2ae78b84f28d6</td>\n",
              "      <td>3/15/2018 16:08</td>\n",
              "      <td>54.97</td>\n",
              "      <td>17.381</td>\n",
              "      <td>credit_card</td>\n",
              "      <td>85.72</td>\n",
              "    </tr>\n",
              "    <tr>\n",
              "      <th>3</th>\n",
              "      <td>health_beauty</td>\n",
              "      <td>2efbce46d36d9af306d4300db163b276</td>\n",
              "      <td>03e5d6a8dd520898f86f8429ccd07c21</td>\n",
              "      <td>1</td>\n",
              "      <td>b494891378bd8f4560abe576c52deacd</td>\n",
              "      <td>8/2/2018 11:45</td>\n",
              "      <td>275.77</td>\n",
              "      <td>20.722</td>\n",
              "      <td>voucher</td>\n",
              "      <td>107.64</td>\n",
              "    </tr>\n",
              "    <tr>\n",
              "      <th>4</th>\n",
              "      <td>health_beauty</td>\n",
              "      <td>7e437c1d65a7baab7e7ca6c9f4e98b84</td>\n",
              "      <td>1ba9bc470dd2df7a0951759dd7b88b8b</td>\n",
              "      <td>1</td>\n",
              "      <td>b56906f7fd1696e043f1bcce164c487b</td>\n",
              "      <td>7/25/2017 15:05</td>\n",
              "      <td>149.50</td>\n",
              "      <td>42.770</td>\n",
              "      <td>credit_card</td>\n",
              "      <td>225.17</td>\n",
              "    </tr>\n",
              "  </tbody>\n",
              "</table>\n",
              "</div>"
            ],
            "text/plain": [
              "  product_category_name_english  ... payment_value\n",
              "0                 health_beauty  ...         90.60\n",
              "1                 health_beauty  ...        769.26\n",
              "2                 health_beauty  ...         85.72\n",
              "3                 health_beauty  ...        107.64\n",
              "4                 health_beauty  ...        225.17\n",
              "\n",
              "[5 rows x 10 columns]"
            ]
          },
          "metadata": {
            "tags": []
          },
          "execution_count": 26
        }
      ]
    },
    {
      "cell_type": "code",
      "metadata": {
        "id": "FIr6jaKw5Iby"
      },
      "source": [
        "df=pd.merge(data,ordercust,on='order_id')"
      ],
      "execution_count": 27,
      "outputs": []
    },
    {
      "cell_type": "code",
      "metadata": {
        "id": "Zynpqkpc5Tln",
        "outputId": "b16ed70f-d4ce-49bf-e3b8-16767921d4e2",
        "colab": {
          "base_uri": "https://localhost:8080/",
          "height": 224
        }
      },
      "source": [
        "df.head()"
      ],
      "execution_count": 28,
      "outputs": [
        {
          "output_type": "execute_result",
          "data": {
            "text/html": [
              "<div>\n",
              "<style scoped>\n",
              "    .dataframe tbody tr th:only-of-type {\n",
              "        vertical-align: middle;\n",
              "    }\n",
              "\n",
              "    .dataframe tbody tr th {\n",
              "        vertical-align: top;\n",
              "    }\n",
              "\n",
              "    .dataframe thead th {\n",
              "        text-align: right;\n",
              "    }\n",
              "</style>\n",
              "<table border=\"1\" class=\"dataframe\">\n",
              "  <thead>\n",
              "    <tr style=\"text-align: right;\">\n",
              "      <th></th>\n",
              "      <th>product_category_name_english</th>\n",
              "      <th>product_id</th>\n",
              "      <th>order_id</th>\n",
              "      <th>order_item_id</th>\n",
              "      <th>seller_id</th>\n",
              "      <th>shipping_limit_date</th>\n",
              "      <th>price</th>\n",
              "      <th>freight_value</th>\n",
              "      <th>payment_type</th>\n",
              "      <th>payment_value</th>\n",
              "      <th>customer_id</th>\n",
              "      <th>order_purchase_timestamp</th>\n",
              "    </tr>\n",
              "  </thead>\n",
              "  <tbody>\n",
              "    <tr>\n",
              "      <th>0</th>\n",
              "      <td>health_beauty</td>\n",
              "      <td>64eb8b21706b8e2c733ba16bf02a1537</td>\n",
              "      <td>14f38e83e237f237348b97dd9f228d40</td>\n",
              "      <td>1</td>\n",
              "      <td>2c3d56f92f360fb89d849b84e8f50eae</td>\n",
              "      <td>2/6/2018 13:32</td>\n",
              "      <td>93.150</td>\n",
              "      <td>17.004</td>\n",
              "      <td>credit_card</td>\n",
              "      <td>123.23</td>\n",
              "      <td>5f8529d3f9d41718127f8ed44d471c6e</td>\n",
              "      <td>2018-01-31 09:49:33</td>\n",
              "    </tr>\n",
              "    <tr>\n",
              "      <th>1</th>\n",
              "      <td>health_beauty</td>\n",
              "      <td>c93558f621dc5b9277a19f009b83aaaf</td>\n",
              "      <td>158263d44a3e5ae322126338c7776dea</td>\n",
              "      <td>1</td>\n",
              "      <td>3fe7120d6257285ac6a3ce7cb071ccec</td>\n",
              "      <td>1/11/2018 9:48</td>\n",
              "      <td>229.977</td>\n",
              "      <td>16.679</td>\n",
              "      <td>credit_card</td>\n",
              "      <td>259.49</td>\n",
              "      <td>182dc723d820aae1a351f75ab1f53451</td>\n",
              "      <td>2018-01-05 09:35:30</td>\n",
              "    </tr>\n",
              "    <tr>\n",
              "      <th>2</th>\n",
              "      <td>health_beauty</td>\n",
              "      <td>154e7e31ebfa092203795c972e5804a6</td>\n",
              "      <td>20be6d24b0a84a4e329e5973d524f20f</td>\n",
              "      <td>1</td>\n",
              "      <td>cc419e0650a3c5ba77189a1882b7556a</td>\n",
              "      <td>8/10/2017 23:50</td>\n",
              "      <td>45.977</td>\n",
              "      <td>44.395</td>\n",
              "      <td>credit_card</td>\n",
              "      <td>249.04</td>\n",
              "      <td>eb7276a4ee7dd4449adcde6da478121a</td>\n",
              "      <td>2017-08-01 23:35:06</td>\n",
              "    </tr>\n",
              "    <tr>\n",
              "      <th>3</th>\n",
              "      <td>health_beauty</td>\n",
              "      <td>154e7e31ebfa092203795c972e5804a6</td>\n",
              "      <td>20be6d24b0a84a4e329e5973d524f20f</td>\n",
              "      <td>2</td>\n",
              "      <td>cc419e0650a3c5ba77189a1882b7556a</td>\n",
              "      <td>8/10/2017 23:50</td>\n",
              "      <td>45.977</td>\n",
              "      <td>44.395</td>\n",
              "      <td>credit_card</td>\n",
              "      <td>249.04</td>\n",
              "      <td>eb7276a4ee7dd4449adcde6da478121a</td>\n",
              "      <td>2017-08-01 23:35:06</td>\n",
              "    </tr>\n",
              "    <tr>\n",
              "      <th>4</th>\n",
              "      <td>health_beauty</td>\n",
              "      <td>154e7e31ebfa092203795c972e5804a6</td>\n",
              "      <td>26262a08c620d910b93d309db0e16725</td>\n",
              "      <td>1</td>\n",
              "      <td>cc419e0650a3c5ba77189a1882b7556a</td>\n",
              "      <td>12/22/2017 14:56</td>\n",
              "      <td>55.177</td>\n",
              "      <td>10.114</td>\n",
              "      <td>credit_card</td>\n",
              "      <td>73.07</td>\n",
              "      <td>2aa3c45e42925370972f456902aa66bd</td>\n",
              "      <td>2017-12-13 14:40:11</td>\n",
              "    </tr>\n",
              "  </tbody>\n",
              "</table>\n",
              "</div>"
            ],
            "text/plain": [
              "  product_category_name_english  ... order_purchase_timestamp\n",
              "0                 health_beauty  ...      2018-01-31 09:49:33\n",
              "1                 health_beauty  ...      2018-01-05 09:35:30\n",
              "2                 health_beauty  ...      2017-08-01 23:35:06\n",
              "3                 health_beauty  ...      2017-08-01 23:35:06\n",
              "4                 health_beauty  ...      2017-12-13 14:40:11\n",
              "\n",
              "[5 rows x 12 columns]"
            ]
          },
          "metadata": {
            "tags": []
          },
          "execution_count": 28
        }
      ]
    },
    {
      "cell_type": "code",
      "metadata": {
        "id": "absfhsiE5t_a",
        "outputId": "74b41d1d-19e4-4bfa-8a11-9230ab1d59cd",
        "colab": {
          "base_uri": "https://localhost:8080/",
          "height": 340
        }
      },
      "source": [
        "df.info()"
      ],
      "execution_count": 29,
      "outputs": [
        {
          "output_type": "stream",
          "text": [
            "<class 'pandas.core.frame.DataFrame'>\n",
            "Int64Index: 574 entries, 0 to 573\n",
            "Data columns (total 12 columns):\n",
            " #   Column                         Non-Null Count  Dtype  \n",
            "---  ------                         --------------  -----  \n",
            " 0   product_category_name_english  574 non-null    object \n",
            " 1   product_id                     574 non-null    object \n",
            " 2   order_id                       574 non-null    object \n",
            " 3   order_item_id                  574 non-null    int64  \n",
            " 4   seller_id                      574 non-null    object \n",
            " 5   shipping_limit_date            574 non-null    object \n",
            " 6   price                          574 non-null    float64\n",
            " 7   freight_value                  574 non-null    float64\n",
            " 8   payment_type                   574 non-null    object \n",
            " 9   payment_value                  574 non-null    float64\n",
            " 10  customer_id                    574 non-null    object \n",
            " 11  order_purchase_timestamp       574 non-null    object \n",
            "dtypes: float64(3), int64(1), object(8)\n",
            "memory usage: 58.3+ KB\n"
          ],
          "name": "stdout"
        }
      ]
    },
    {
      "cell_type": "code",
      "metadata": {
        "id": "YdPngKZzR3b9",
        "outputId": "2b7c2b4f-a955-4c3d-891f-6128f883f870",
        "colab": {
          "base_uri": "https://localhost:8080/",
          "height": 238
        }
      },
      "source": [
        "df.isnull().sum()"
      ],
      "execution_count": 30,
      "outputs": [
        {
          "output_type": "execute_result",
          "data": {
            "text/plain": [
              "product_category_name_english    0\n",
              "product_id                       0\n",
              "order_id                         0\n",
              "order_item_id                    0\n",
              "seller_id                        0\n",
              "shipping_limit_date              0\n",
              "price                            0\n",
              "freight_value                    0\n",
              "payment_type                     0\n",
              "payment_value                    0\n",
              "customer_id                      0\n",
              "order_purchase_timestamp         0\n",
              "dtype: int64"
            ]
          },
          "metadata": {
            "tags": []
          },
          "execution_count": 30
        }
      ]
    },
    {
      "cell_type": "code",
      "metadata": {
        "id": "LdfTl4M06t4H"
      },
      "source": [
        "df_max=df.groupby('product_category_name_english').count()"
      ],
      "execution_count": 31,
      "outputs": []
    },
    {
      "cell_type": "code",
      "metadata": {
        "id": "sZRrtRmz9vlV",
        "outputId": "25960526-6daa-4c38-f3ce-b970f927cc10",
        "colab": {
          "base_uri": "https://localhost:8080/",
          "height": 833
        }
      },
      "source": [
        "df_max.sort_values(by='product_id').product_id"
      ],
      "execution_count": 32,
      "outputs": [
        {
          "output_type": "execute_result",
          "data": {
            "text/plain": [
              "product_category_name_english\n",
              "agro_industry_and_commerce                  1\n",
              "furniture_bedroom                           1\n",
              "fashion_underwear_beach                     1\n",
              "fashio_female_clothing                      1\n",
              "furniture_mattress_and_upholstery           1\n",
              "industry_commerce_and_business              1\n",
              "kitchen_dining_laundry_garden_furniture     1\n",
              "furniture_living_room                       1\n",
              "art                                         1\n",
              "luggage_accessories                         2\n",
              "home_construction                           2\n",
              "market_place                                2\n",
              "costruction_tools_tools                     2\n",
              "drinks                                      2\n",
              "home_appliances_2                           2\n",
              "fixed_telephony                             2\n",
              "computers                                   2\n",
              "home_confort                                2\n",
              "books_general_interest                      3\n",
              "musical_instruments                         4\n",
              "small_appliances                            4\n",
              "food_drink                                  4\n",
              "air_conditioning                            4\n",
              "home_appliances                             5\n",
              "food                                        5\n",
              "consoles_games                              5\n",
              "construction_tools_construction             6\n",
              "office_furniture                           13\n",
              "fashion_bags_accessories                   13\n",
              "pet_shop                                   13\n",
              "stationery                                 13\n",
              "garden_tools                               16\n",
              "baby                                       17\n",
              "perfumery                                  17\n",
              "cool_stuff                                 18\n",
              "auto                                       22\n",
              "toys                                       22\n",
              "electronics                                25\n",
              "telephony                                  26\n",
              "watches_gifts                              30\n",
              "housewares                                 31\n",
              "sports_leisure                             32\n",
              "computers_accessories                      39\n",
              "furniture_decor                            47\n",
              "health_beauty                              52\n",
              "bed_bath_table                             61\n",
              "Name: product_id, dtype: int64"
            ]
          },
          "metadata": {
            "tags": []
          },
          "execution_count": 32
        }
      ]
    },
    {
      "cell_type": "code",
      "metadata": {
        "id": "67FMQPVaSEuk",
        "outputId": "0c8ae8a4-3e1d-4321-c100-0175a777a39f",
        "colab": {
          "base_uri": "https://localhost:8080/",
          "height": 238
        }
      },
      "source": [
        "df_counting=df.groupby(['product_category_name_english','product_id']).count().order_id\n",
        "df_counting.sort_values(axis=0)"
      ],
      "execution_count": 33,
      "outputs": [
        {
          "output_type": "execute_result",
          "data": {
            "text/plain": [
              "product_category_name_english  product_id                      \n",
              "agro_industry_and_commerce     f3c179e260e0eeffbe02340259404cb1     1\n",
              "housewares                     99e28f7c171b6945dc991d1178ffedfe     1\n",
              "                               783dae38feb9e3a364e24e25168cfa8a     1\n",
              "                               750dcfda0a9788bba89c94bb82a322db     1\n",
              "                               727017cd91a0361b8ae4cfcff15e9682     1\n",
              "                                                                   ..\n",
              "telephony                      d34c07a2d817ac73f4caf8c574215fed     5\n",
              "bed_bath_table                 926a505f318353d8634f3c5102756352     5\n",
              "computers_accessories          71cedfb0fc49b02e2cb77b7ae1fff332     6\n",
              "housewares                     d02e5b014cc50a42a3ede0b3dc1fc63e     6\n",
              "electronics                    bdc3291ab242ec1effc8eb0987850268    10\n",
              "Name: order_id, Length: 458, dtype: int64"
            ]
          },
          "metadata": {
            "tags": []
          },
          "execution_count": 33
        }
      ]
    },
    {
      "cell_type": "markdown",
      "metadata": {
        "id": "sm1gM8aqjxlu"
      },
      "source": [
        "**For the Promotional purpose we should promote agro/houseware products as they are very less selling items**"
      ]
    },
    {
      "cell_type": "code",
      "metadata": {
        "id": "h0o9e52rkG9O",
        "outputId": "47acd533-7aeb-45d7-c9a3-32502f697eeb",
        "colab": {
          "base_uri": "https://localhost:8080/",
          "height": 224
        }
      },
      "source": [
        "df.head()"
      ],
      "execution_count": 34,
      "outputs": [
        {
          "output_type": "execute_result",
          "data": {
            "text/html": [
              "<div>\n",
              "<style scoped>\n",
              "    .dataframe tbody tr th:only-of-type {\n",
              "        vertical-align: middle;\n",
              "    }\n",
              "\n",
              "    .dataframe tbody tr th {\n",
              "        vertical-align: top;\n",
              "    }\n",
              "\n",
              "    .dataframe thead th {\n",
              "        text-align: right;\n",
              "    }\n",
              "</style>\n",
              "<table border=\"1\" class=\"dataframe\">\n",
              "  <thead>\n",
              "    <tr style=\"text-align: right;\">\n",
              "      <th></th>\n",
              "      <th>product_category_name_english</th>\n",
              "      <th>product_id</th>\n",
              "      <th>order_id</th>\n",
              "      <th>order_item_id</th>\n",
              "      <th>seller_id</th>\n",
              "      <th>shipping_limit_date</th>\n",
              "      <th>price</th>\n",
              "      <th>freight_value</th>\n",
              "      <th>payment_type</th>\n",
              "      <th>payment_value</th>\n",
              "      <th>customer_id</th>\n",
              "      <th>order_purchase_timestamp</th>\n",
              "    </tr>\n",
              "  </thead>\n",
              "  <tbody>\n",
              "    <tr>\n",
              "      <th>0</th>\n",
              "      <td>health_beauty</td>\n",
              "      <td>64eb8b21706b8e2c733ba16bf02a1537</td>\n",
              "      <td>14f38e83e237f237348b97dd9f228d40</td>\n",
              "      <td>1</td>\n",
              "      <td>2c3d56f92f360fb89d849b84e8f50eae</td>\n",
              "      <td>2/6/2018 13:32</td>\n",
              "      <td>93.150</td>\n",
              "      <td>17.004</td>\n",
              "      <td>credit_card</td>\n",
              "      <td>123.23</td>\n",
              "      <td>5f8529d3f9d41718127f8ed44d471c6e</td>\n",
              "      <td>2018-01-31 09:49:33</td>\n",
              "    </tr>\n",
              "    <tr>\n",
              "      <th>1</th>\n",
              "      <td>health_beauty</td>\n",
              "      <td>c93558f621dc5b9277a19f009b83aaaf</td>\n",
              "      <td>158263d44a3e5ae322126338c7776dea</td>\n",
              "      <td>1</td>\n",
              "      <td>3fe7120d6257285ac6a3ce7cb071ccec</td>\n",
              "      <td>1/11/2018 9:48</td>\n",
              "      <td>229.977</td>\n",
              "      <td>16.679</td>\n",
              "      <td>credit_card</td>\n",
              "      <td>259.49</td>\n",
              "      <td>182dc723d820aae1a351f75ab1f53451</td>\n",
              "      <td>2018-01-05 09:35:30</td>\n",
              "    </tr>\n",
              "    <tr>\n",
              "      <th>2</th>\n",
              "      <td>health_beauty</td>\n",
              "      <td>154e7e31ebfa092203795c972e5804a6</td>\n",
              "      <td>20be6d24b0a84a4e329e5973d524f20f</td>\n",
              "      <td>1</td>\n",
              "      <td>cc419e0650a3c5ba77189a1882b7556a</td>\n",
              "      <td>8/10/2017 23:50</td>\n",
              "      <td>45.977</td>\n",
              "      <td>44.395</td>\n",
              "      <td>credit_card</td>\n",
              "      <td>249.04</td>\n",
              "      <td>eb7276a4ee7dd4449adcde6da478121a</td>\n",
              "      <td>2017-08-01 23:35:06</td>\n",
              "    </tr>\n",
              "    <tr>\n",
              "      <th>3</th>\n",
              "      <td>health_beauty</td>\n",
              "      <td>154e7e31ebfa092203795c972e5804a6</td>\n",
              "      <td>20be6d24b0a84a4e329e5973d524f20f</td>\n",
              "      <td>2</td>\n",
              "      <td>cc419e0650a3c5ba77189a1882b7556a</td>\n",
              "      <td>8/10/2017 23:50</td>\n",
              "      <td>45.977</td>\n",
              "      <td>44.395</td>\n",
              "      <td>credit_card</td>\n",
              "      <td>249.04</td>\n",
              "      <td>eb7276a4ee7dd4449adcde6da478121a</td>\n",
              "      <td>2017-08-01 23:35:06</td>\n",
              "    </tr>\n",
              "    <tr>\n",
              "      <th>4</th>\n",
              "      <td>health_beauty</td>\n",
              "      <td>154e7e31ebfa092203795c972e5804a6</td>\n",
              "      <td>26262a08c620d910b93d309db0e16725</td>\n",
              "      <td>1</td>\n",
              "      <td>cc419e0650a3c5ba77189a1882b7556a</td>\n",
              "      <td>12/22/2017 14:56</td>\n",
              "      <td>55.177</td>\n",
              "      <td>10.114</td>\n",
              "      <td>credit_card</td>\n",
              "      <td>73.07</td>\n",
              "      <td>2aa3c45e42925370972f456902aa66bd</td>\n",
              "      <td>2017-12-13 14:40:11</td>\n",
              "    </tr>\n",
              "  </tbody>\n",
              "</table>\n",
              "</div>"
            ],
            "text/plain": [
              "  product_category_name_english  ... order_purchase_timestamp\n",
              "0                 health_beauty  ...      2018-01-31 09:49:33\n",
              "1                 health_beauty  ...      2018-01-05 09:35:30\n",
              "2                 health_beauty  ...      2017-08-01 23:35:06\n",
              "3                 health_beauty  ...      2017-08-01 23:35:06\n",
              "4                 health_beauty  ...      2017-12-13 14:40:11\n",
              "\n",
              "[5 rows x 12 columns]"
            ]
          },
          "metadata": {
            "tags": []
          },
          "execution_count": 34
        }
      ]
    },
    {
      "cell_type": "code",
      "metadata": {
        "id": "C5AeuJqol_vA",
        "outputId": "878e3400-5afa-4d14-e038-ea1f8171ac21",
        "colab": {
          "base_uri": "https://localhost:8080/",
          "height": 238
        }
      },
      "source": [
        "df.groupby('shipping_limit_date').sum().price"
      ],
      "execution_count": 36,
      "outputs": [
        {
          "output_type": "execute_result",
          "data": {
            "text/plain": [
              "shipping_limit_date\n",
              "1/1/2018 22:30      603.750\n",
              "1/10/2018 19:46     131.077\n",
              "1/11/2018 9:48      229.977\n",
              "1/12/2018 19:08     204.700\n",
              "1/16/2017 23:42     867.100\n",
              "                     ...   \n",
              "9/4/2017 9:25       894.700\n",
              "9/5/2017 20:30      105.777\n",
              "9/5/2017 5:32       264.960\n",
              "9/8/2017 15:45     1034.770\n",
              "9/8/2017 15:55      206.770\n",
              "Name: price, Length: 467, dtype: float64"
            ]
          },
          "metadata": {
            "tags": []
          },
          "execution_count": 36
        }
      ]
    },
    {
      "cell_type": "code",
      "metadata": {
        "id": "Q8azhxM_nEx6",
        "outputId": "d6f99360-bfdb-4b04-a1c1-8e5ad9fa71e6",
        "colab": {
          "base_uri": "https://localhost:8080/",
          "height": 224
        }
      },
      "source": [
        "df['year'] = pd.DatetimeIndex(df['shipping_limit_date']).year\n",
        "df.head()"
      ],
      "execution_count": 38,
      "outputs": [
        {
          "output_type": "execute_result",
          "data": {
            "text/html": [
              "<div>\n",
              "<style scoped>\n",
              "    .dataframe tbody tr th:only-of-type {\n",
              "        vertical-align: middle;\n",
              "    }\n",
              "\n",
              "    .dataframe tbody tr th {\n",
              "        vertical-align: top;\n",
              "    }\n",
              "\n",
              "    .dataframe thead th {\n",
              "        text-align: right;\n",
              "    }\n",
              "</style>\n",
              "<table border=\"1\" class=\"dataframe\">\n",
              "  <thead>\n",
              "    <tr style=\"text-align: right;\">\n",
              "      <th></th>\n",
              "      <th>product_category_name_english</th>\n",
              "      <th>product_id</th>\n",
              "      <th>order_id</th>\n",
              "      <th>order_item_id</th>\n",
              "      <th>seller_id</th>\n",
              "      <th>shipping_limit_date</th>\n",
              "      <th>price</th>\n",
              "      <th>freight_value</th>\n",
              "      <th>payment_type</th>\n",
              "      <th>payment_value</th>\n",
              "      <th>customer_id</th>\n",
              "      <th>order_purchase_timestamp</th>\n",
              "      <th>year</th>\n",
              "    </tr>\n",
              "  </thead>\n",
              "  <tbody>\n",
              "    <tr>\n",
              "      <th>0</th>\n",
              "      <td>health_beauty</td>\n",
              "      <td>64eb8b21706b8e2c733ba16bf02a1537</td>\n",
              "      <td>14f38e83e237f237348b97dd9f228d40</td>\n",
              "      <td>1</td>\n",
              "      <td>2c3d56f92f360fb89d849b84e8f50eae</td>\n",
              "      <td>2/6/2018 13:32</td>\n",
              "      <td>93.150</td>\n",
              "      <td>17.004</td>\n",
              "      <td>credit_card</td>\n",
              "      <td>123.23</td>\n",
              "      <td>5f8529d3f9d41718127f8ed44d471c6e</td>\n",
              "      <td>2018-01-31 09:49:33</td>\n",
              "      <td>2018</td>\n",
              "    </tr>\n",
              "    <tr>\n",
              "      <th>1</th>\n",
              "      <td>health_beauty</td>\n",
              "      <td>c93558f621dc5b9277a19f009b83aaaf</td>\n",
              "      <td>158263d44a3e5ae322126338c7776dea</td>\n",
              "      <td>1</td>\n",
              "      <td>3fe7120d6257285ac6a3ce7cb071ccec</td>\n",
              "      <td>1/11/2018 9:48</td>\n",
              "      <td>229.977</td>\n",
              "      <td>16.679</td>\n",
              "      <td>credit_card</td>\n",
              "      <td>259.49</td>\n",
              "      <td>182dc723d820aae1a351f75ab1f53451</td>\n",
              "      <td>2018-01-05 09:35:30</td>\n",
              "      <td>2018</td>\n",
              "    </tr>\n",
              "    <tr>\n",
              "      <th>2</th>\n",
              "      <td>health_beauty</td>\n",
              "      <td>154e7e31ebfa092203795c972e5804a6</td>\n",
              "      <td>20be6d24b0a84a4e329e5973d524f20f</td>\n",
              "      <td>1</td>\n",
              "      <td>cc419e0650a3c5ba77189a1882b7556a</td>\n",
              "      <td>8/10/2017 23:50</td>\n",
              "      <td>45.977</td>\n",
              "      <td>44.395</td>\n",
              "      <td>credit_card</td>\n",
              "      <td>249.04</td>\n",
              "      <td>eb7276a4ee7dd4449adcde6da478121a</td>\n",
              "      <td>2017-08-01 23:35:06</td>\n",
              "      <td>2017</td>\n",
              "    </tr>\n",
              "    <tr>\n",
              "      <th>3</th>\n",
              "      <td>health_beauty</td>\n",
              "      <td>154e7e31ebfa092203795c972e5804a6</td>\n",
              "      <td>20be6d24b0a84a4e329e5973d524f20f</td>\n",
              "      <td>2</td>\n",
              "      <td>cc419e0650a3c5ba77189a1882b7556a</td>\n",
              "      <td>8/10/2017 23:50</td>\n",
              "      <td>45.977</td>\n",
              "      <td>44.395</td>\n",
              "      <td>credit_card</td>\n",
              "      <td>249.04</td>\n",
              "      <td>eb7276a4ee7dd4449adcde6da478121a</td>\n",
              "      <td>2017-08-01 23:35:06</td>\n",
              "      <td>2017</td>\n",
              "    </tr>\n",
              "    <tr>\n",
              "      <th>4</th>\n",
              "      <td>health_beauty</td>\n",
              "      <td>154e7e31ebfa092203795c972e5804a6</td>\n",
              "      <td>26262a08c620d910b93d309db0e16725</td>\n",
              "      <td>1</td>\n",
              "      <td>cc419e0650a3c5ba77189a1882b7556a</td>\n",
              "      <td>12/22/2017 14:56</td>\n",
              "      <td>55.177</td>\n",
              "      <td>10.114</td>\n",
              "      <td>credit_card</td>\n",
              "      <td>73.07</td>\n",
              "      <td>2aa3c45e42925370972f456902aa66bd</td>\n",
              "      <td>2017-12-13 14:40:11</td>\n",
              "      <td>2017</td>\n",
              "    </tr>\n",
              "  </tbody>\n",
              "</table>\n",
              "</div>"
            ],
            "text/plain": [
              "  product_category_name_english  ...  year\n",
              "0                 health_beauty  ...  2018\n",
              "1                 health_beauty  ...  2018\n",
              "2                 health_beauty  ...  2017\n",
              "3                 health_beauty  ...  2017\n",
              "4                 health_beauty  ...  2017\n",
              "\n",
              "[5 rows x 13 columns]"
            ]
          },
          "metadata": {
            "tags": []
          },
          "execution_count": 38
        }
      ]
    },
    {
      "cell_type": "code",
      "metadata": {
        "id": "Xgxn0-w0nRjL",
        "outputId": "bac66e4b-e76b-4cb6-e21b-4264414a1b4a",
        "colab": {
          "base_uri": "https://localhost:8080/",
          "height": 173
        }
      },
      "source": [
        "df.groupby('year').sum()"
      ],
      "execution_count": 40,
      "outputs": [
        {
          "output_type": "execute_result",
          "data": {
            "text/html": [
              "<div>\n",
              "<style scoped>\n",
              "    .dataframe tbody tr th:only-of-type {\n",
              "        vertical-align: middle;\n",
              "    }\n",
              "\n",
              "    .dataframe tbody tr th {\n",
              "        vertical-align: top;\n",
              "    }\n",
              "\n",
              "    .dataframe thead th {\n",
              "        text-align: right;\n",
              "    }\n",
              "</style>\n",
              "<table border=\"1\" class=\"dataframe\">\n",
              "  <thead>\n",
              "    <tr style=\"text-align: right;\">\n",
              "      <th></th>\n",
              "      <th>order_item_id</th>\n",
              "      <th>price</th>\n",
              "      <th>freight_value</th>\n",
              "      <th>payment_value</th>\n",
              "    </tr>\n",
              "    <tr>\n",
              "      <th>year</th>\n",
              "      <th></th>\n",
              "      <th></th>\n",
              "      <th></th>\n",
              "      <th></th>\n",
              "    </tr>\n",
              "  </thead>\n",
              "  <tbody>\n",
              "    <tr>\n",
              "      <th>2016</th>\n",
              "      <td>3</td>\n",
              "      <td>321.724</td>\n",
              "      <td>42.588</td>\n",
              "      <td>397.07</td>\n",
              "    </tr>\n",
              "    <tr>\n",
              "      <th>2017</th>\n",
              "      <td>293</td>\n",
              "      <td>65329.844</td>\n",
              "      <td>6081.049</td>\n",
              "      <td>87152.90</td>\n",
              "    </tr>\n",
              "    <tr>\n",
              "      <th>2018</th>\n",
              "      <td>394</td>\n",
              "      <td>95954.459</td>\n",
              "      <td>8154.627</td>\n",
              "      <td>142058.53</td>\n",
              "    </tr>\n",
              "  </tbody>\n",
              "</table>\n",
              "</div>"
            ],
            "text/plain": [
              "      order_item_id      price  freight_value  payment_value\n",
              "year                                                        \n",
              "2016              3    321.724         42.588         397.07\n",
              "2017            293  65329.844       6081.049       87152.90\n",
              "2018            394  95954.459       8154.627      142058.53"
            ]
          },
          "metadata": {
            "tags": []
          },
          "execution_count": 40
        }
      ]
    },
    {
      "cell_type": "markdown",
      "metadata": {
        "id": "Dgj4GXw-njZW"
      },
      "source": [
        "**As the company started in 2016 it has very less no of customers and so from the next year as the company have gift items too its sell goes high year by year**"
      ]
    },
    {
      "cell_type": "code",
      "metadata": {
        "id": "w8pWqfyyn7DY",
        "outputId": "862ec8b6-88ee-4213-9616-17e9eb6189f9",
        "colab": {
          "base_uri": "https://localhost:8080/",
          "height": 258
        }
      },
      "source": [
        "daf=pd.merge(df,order_reviews,on='order_id')\n",
        "daf.head()"
      ],
      "execution_count": 42,
      "outputs": [
        {
          "output_type": "execute_result",
          "data": {
            "text/html": [
              "<div>\n",
              "<style scoped>\n",
              "    .dataframe tbody tr th:only-of-type {\n",
              "        vertical-align: middle;\n",
              "    }\n",
              "\n",
              "    .dataframe tbody tr th {\n",
              "        vertical-align: top;\n",
              "    }\n",
              "\n",
              "    .dataframe thead th {\n",
              "        text-align: right;\n",
              "    }\n",
              "</style>\n",
              "<table border=\"1\" class=\"dataframe\">\n",
              "  <thead>\n",
              "    <tr style=\"text-align: right;\">\n",
              "      <th></th>\n",
              "      <th>product_category_name_english</th>\n",
              "      <th>product_id</th>\n",
              "      <th>order_id</th>\n",
              "      <th>order_item_id</th>\n",
              "      <th>seller_id</th>\n",
              "      <th>shipping_limit_date</th>\n",
              "      <th>price</th>\n",
              "      <th>freight_value</th>\n",
              "      <th>payment_type</th>\n",
              "      <th>payment_value</th>\n",
              "      <th>customer_id</th>\n",
              "      <th>order_purchase_timestamp</th>\n",
              "      <th>year</th>\n",
              "      <th>review_id</th>\n",
              "      <th>review_score</th>\n",
              "      <th>review_comment_title</th>\n",
              "      <th>review_comment_message</th>\n",
              "      <th>review_creation_date</th>\n",
              "      <th>review_answer_timestamp</th>\n",
              "    </tr>\n",
              "  </thead>\n",
              "  <tbody>\n",
              "    <tr>\n",
              "      <th>0</th>\n",
              "      <td>health_beauty</td>\n",
              "      <td>154e7e31ebfa092203795c972e5804a6</td>\n",
              "      <td>26262a08c620d910b93d309db0e16725</td>\n",
              "      <td>1</td>\n",
              "      <td>cc419e0650a3c5ba77189a1882b7556a</td>\n",
              "      <td>12/22/2017 14:56</td>\n",
              "      <td>55.177</td>\n",
              "      <td>10.114</td>\n",
              "      <td>credit_card</td>\n",
              "      <td>73.07</td>\n",
              "      <td>2aa3c45e42925370972f456902aa66bd</td>\n",
              "      <td>2017-12-13 14:40:11</td>\n",
              "      <td>2017</td>\n",
              "      <td>40bb722a8b4a84fae3d5d45dfe0fa631</td>\n",
              "      <td>5.0</td>\n",
              "      <td>NaN</td>\n",
              "      <td>NaN</td>\n",
              "      <td>2017-12-16 00:00:00</td>\n",
              "      <td>2017-12-18 11:23:11</td>\n",
              "    </tr>\n",
              "    <tr>\n",
              "      <th>1</th>\n",
              "      <td>health_beauty</td>\n",
              "      <td>f23c48d81cd6a0c87f5c3b14aac68371</td>\n",
              "      <td>008fab5602c441d51f30b1464f5d4643</td>\n",
              "      <td>1</td>\n",
              "      <td>ebd2d60905fb58271facef5596b620d3</td>\n",
              "      <td>2/26/2017 10:37</td>\n",
              "      <td>114.977</td>\n",
              "      <td>20.228</td>\n",
              "      <td>credit_card</td>\n",
              "      <td>150.77</td>\n",
              "      <td>337e39b83fac394e62eb7876f45ee981</td>\n",
              "      <td>2017-02-22 10:37:41</td>\n",
              "      <td>2017</td>\n",
              "      <td>7bbf48933446bc2b6603e1c6fc539ebf</td>\n",
              "      <td>5.0</td>\n",
              "      <td>NaN</td>\n",
              "      <td>NaN</td>\n",
              "      <td>2017-03-04 00:00:00</td>\n",
              "      <td>2017-03-06 00:23:32</td>\n",
              "    </tr>\n",
              "    <tr>\n",
              "      <th>2</th>\n",
              "      <td>health_beauty</td>\n",
              "      <td>6cd1945e89970ad5992f82541a227c36</td>\n",
              "      <td>2cdefa55b6451e99ea05e363761f87fa</td>\n",
              "      <td>1</td>\n",
              "      <td>e9779976487b77c6d4ac45f75ec7afe9</td>\n",
              "      <td>2/21/2018 10:30</td>\n",
              "      <td>275.770</td>\n",
              "      <td>22.464</td>\n",
              "      <td>credit_card</td>\n",
              "      <td>315.51</td>\n",
              "      <td>01f9be48b48de8870e94f9744bd6ed7b</td>\n",
              "      <td>2018-02-15 11:07:38</td>\n",
              "      <td>2018</td>\n",
              "      <td>6187b1a479806db45b41e0d009cada02</td>\n",
              "      <td>5.0</td>\n",
              "      <td>NaN</td>\n",
              "      <td>Produto chegou antes do prazo, veio uma coquet...</td>\n",
              "      <td>2018-03-08 00:00:00</td>\n",
              "      <td>2018-04-25 10:03:05</td>\n",
              "    </tr>\n",
              "    <tr>\n",
              "      <th>3</th>\n",
              "      <td>health_beauty</td>\n",
              "      <td>eaa5e4f6335cbfad1703327e407e4eca</td>\n",
              "      <td>07946e40cd8c6b2ab27f0fe14f21f7dd</td>\n",
              "      <td>1</td>\n",
              "      <td>ad420dd0c4f92f8af951ac24b86d0cf5</td>\n",
              "      <td>6/27/2018 20:31</td>\n",
              "      <td>368.000</td>\n",
              "      <td>29.965</td>\n",
              "      <td>credit_card</td>\n",
              "      <td>421.02</td>\n",
              "      <td>72b154a83078118969daf89bbe7fe225</td>\n",
              "      <td>2018-06-22 19:57:24</td>\n",
              "      <td>2018</td>\n",
              "      <td>eddec0ed3e9e5b773e5bfd338da93d07</td>\n",
              "      <td>4.0</td>\n",
              "      <td>NaN</td>\n",
              "      <td>NaN</td>\n",
              "      <td>2018-07-03 00:00:00</td>\n",
              "      <td>2018-07-03 18:15:16</td>\n",
              "    </tr>\n",
              "    <tr>\n",
              "      <th>4</th>\n",
              "      <td>health_beauty</td>\n",
              "      <td>6cdd53843498f92890544667809f1595</td>\n",
              "      <td>08cef746691fa27e23fe2c32a02c0e21</td>\n",
              "      <td>1</td>\n",
              "      <td>ccc4bbb5f32a6ab2b7066a4130f114e3</td>\n",
              "      <td>3/8/2018 12:50</td>\n",
              "      <td>804.770</td>\n",
              "      <td>41.574</td>\n",
              "      <td>debit_card</td>\n",
              "      <td>878.32</td>\n",
              "      <td>b169b69e3ad77c2ea0e63ae4710b863b</td>\n",
              "      <td>2018-02-26 14:09:33</td>\n",
              "      <td>2018</td>\n",
              "      <td>0b6f0ee7ed8b73ffcd887a502c021ed5</td>\n",
              "      <td>1.0</td>\n",
              "      <td>NaN</td>\n",
              "      <td>Sempre comprei pela lannister.com e essa foi a...</td>\n",
              "      <td>2018-03-29 00:00:00</td>\n",
              "      <td>2018-03-29 10:30:51</td>\n",
              "    </tr>\n",
              "  </tbody>\n",
              "</table>\n",
              "</div>"
            ],
            "text/plain": [
              "  product_category_name_english  ... review_answer_timestamp\n",
              "0                 health_beauty  ...     2017-12-18 11:23:11\n",
              "1                 health_beauty  ...     2017-03-06 00:23:32\n",
              "2                 health_beauty  ...     2018-04-25 10:03:05\n",
              "3                 health_beauty  ...     2018-07-03 18:15:16\n",
              "4                 health_beauty  ...     2018-03-29 10:30:51\n",
              "\n",
              "[5 rows x 19 columns]"
            ]
          },
          "metadata": {
            "tags": []
          },
          "execution_count": 42
        }
      ]
    },
    {
      "cell_type": "code",
      "metadata": {
        "id": "29Gd09nvpjYF",
        "outputId": "9fd1e7af-fb7c-4338-d996-bf2fe4394f7f",
        "colab": {
          "base_uri": "https://localhost:8080/",
          "height": 136
        }
      },
      "source": [
        "daf.groupby('review_score').count().review_id"
      ],
      "execution_count": 57,
      "outputs": [
        {
          "output_type": "execute_result",
          "data": {
            "text/plain": [
              "review_score\n",
              "1.0    12\n",
              "2.0     4\n",
              "3.0     7\n",
              "4.0    23\n",
              "5.0    65\n",
              "Name: review_id, dtype: int64"
            ]
          },
          "metadata": {
            "tags": []
          },
          "execution_count": 57
        }
      ]
    },
    {
      "cell_type": "markdown",
      "metadata": {
        "id": "Mxh7_rGmp4YF"
      },
      "source": [
        "**Most of the customers are very happy with the products they buy**"
      ]
    },
    {
      "cell_type": "code",
      "metadata": {
        "id": "SGf1QnHrqBaT",
        "outputId": "dc787902-8689-4463-d146-3f9de2c57864",
        "colab": {
          "base_uri": "https://localhost:8080/",
          "height": 1000
        }
      },
      "source": [
        "daf.groupby(['review_score','product_category_name_english']).count().order_id"
      ],
      "execution_count": 48,
      "outputs": [
        {
          "output_type": "execute_result",
          "data": {
            "text/plain": [
              "review_score  product_category_name_english  \n",
              "1.0           bed_bath_table                     1\n",
              "              computers_accessories              1\n",
              "              cool_stuff                         1\n",
              "              electronics                        1\n",
              "              fashion_bags_accessories           1\n",
              "              furniture_decor                    1\n",
              "              health_beauty                      1\n",
              "              office_furniture                   2\n",
              "              sports_leisure                     1\n",
              "              telephony                          2\n",
              "2.0           baby                               1\n",
              "              bed_bath_table                     1\n",
              "              furniture_decor                    1\n",
              "              sports_leisure                     1\n",
              "3.0           auto                               1\n",
              "              computers_accessories              2\n",
              "              housewares                         1\n",
              "              sports_leisure                     2\n",
              "              watches_gifts                      1\n",
              "4.0           auto                               3\n",
              "              baby                               1\n",
              "              bed_bath_table                     4\n",
              "              computers_accessories              1\n",
              "              consoles_games                     1\n",
              "              cool_stuff                         1\n",
              "              electronics                        2\n",
              "              health_beauty                      1\n",
              "              housewares                         1\n",
              "              musical_instruments                1\n",
              "              office_furniture                   2\n",
              "              stationery                         2\n",
              "              toys                               2\n",
              "              watches_gifts                      1\n",
              "5.0           auto                               1\n",
              "              baby                               1\n",
              "              bed_bath_table                     5\n",
              "              books_general_interest             1\n",
              "              computers_accessories              3\n",
              "              consoles_games                     1\n",
              "              construction_tools_construction    1\n",
              "              drinks                             2\n",
              "              electronics                        2\n",
              "              fashion_bags_accessories           5\n",
              "              fixed_telephony                    1\n",
              "              furniture_decor                    6\n",
              "              garden_tools                       2\n",
              "              health_beauty                      5\n",
              "              home_appliances                    1\n",
              "              housewares                         5\n",
              "              musical_instruments                2\n",
              "              pet_shop                           1\n",
              "              sports_leisure                     3\n",
              "              stationery                         2\n",
              "              telephony                          5\n",
              "              toys                               4\n",
              "              watches_gifts                      6\n",
              "Name: order_id, dtype: int64"
            ]
          },
          "metadata": {
            "tags": []
          },
          "execution_count": 48
        }
      ]
    }
  ]
}